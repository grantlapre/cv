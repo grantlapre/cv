{
  "nbformat": 4,
  "nbformat_minor": 0,
  "metadata": {
    "colab": {
      "provenance": [],
      "history_visible": true,
      "authorship_tag": "ABX9TyOF/EYGkx+4XSSgXc7cI0Fc",
      "include_colab_link": true
    },
    "kernelspec": {
      "name": "python3",
      "display_name": "Python 3"
    },
    "language_info": {
      "name": "python"
    }
  },
  "cells": [
    {
      "cell_type": "markdown",
      "metadata": {
        "id": "view-in-github",
        "colab_type": "text"
      },
      "source": [
        "<a href=\"https://colab.research.google.com/github/grantlapre/cv/blob/main/Copy_of_try.ipynb\" target=\"_parent\"><img src=\"https://colab.research.google.com/assets/colab-badge.svg\" alt=\"Open In Colab\"/></a>"
      ]
    },
    {
      "cell_type": "code",
      "execution_count": 6,
      "metadata": {
        "colab": {
          "base_uri": "https://localhost:8080/"
        },
        "id": "LABEmUtulfeL",
        "outputId": "db73eee8-0387-48c7-c2e0-d843699abb8c"
      },
      "outputs": [
        {
          "output_type": "stream",
          "name": "stdout",
          "text": [
            "Archive:  /content/project.zip\n",
            "   creating: project/\n",
            "   creating: project/bg/\n",
            " extracting: project/bg/1.png        \n",
            " extracting: project/bg/2.png        \n",
            " extracting: project/bg/3.png        \n",
            " extracting: project/bg/4.png        \n",
            " extracting: project/bg/5.png        \n",
            "   creating: project/eye/\n",
            " extracting: project/eye/1.png       \n",
            " extracting: project/eye/2.png       \n",
            " extracting: project/eye/3.png       \n",
            " extracting: project/eye/4.png       \n",
            " extracting: project/eye/5.png       \n",
            " extracting: project/eye/6.png       \n",
            "   creating: project/mouths/\n",
            " extracting: project/mouths/1.png    \n",
            " extracting: project/mouths/2.png    \n",
            " extracting: project/mouths/3.png    \n",
            " extracting: project/mouths/4.png    \n",
            " extracting: project/mouths/5.png    \n",
            " extracting: project/mouths/6.png    \n"
          ]
        }
      ],
      "source": [
        "!unzip /content/project.zip"
      ]
    },
    {
      "cell_type": "code",
      "source": [
        "from PIL import Image\n",
        "import random\n",
        "from os import listdir\n",
        "while True:\n",
        "  total_nft = input(\"how many nfts\")\n",
        "  \n",
        "  try:\n",
        "    total_nft = int(total_nft)\n",
        "    break\n",
        "\n",
        "  except ValueError:\n",
        "    print(\"NOT A NUMBER\")\n",
        "\n",
        "bg_files = listdir(\"/content/project/bg\")\n",
        "print(bg_files)\n",
        "eyes_files = listdir(\"/content/project/eye\")\n",
        "print(eyes_files)\n",
        "mouth_files = listdir(\"/content/project/mouths\")\n",
        "print(mouth_files)\n",
        "total_poss = len(bg_files)*len(eyes_files)*len(mouth_files)\n",
        "\n",
        "print(\"with these files we can only generate a maximum of {} images\".format(total_poss))\n",
        "\n",
        "if total_poss<=total_nft:\n",
        "  print(\"not enough files to generate {} nfts\".format(total_nft))\n",
        "  exit\n",
        "\n",
        "main=[\"\"]\n",
        "i=1\n",
        "while True:\n",
        "  bg = random.choice(bg_files)\n",
        "  eyes = random.choice(eyes_files)\n",
        "  mouths = random.choice(mouth_files)\n",
        "  img_name = \"image+{}+{}+{}\".format(bg.split('.')[0], eyes.split('.')[0],mouths.split('.')[0])\n",
        "  print(img_name)\n",
        "  if img_name not in main:\n",
        "    main.append(img_name)\n",
        "    bg_img = Image.open(\"/content/project/bg/\"+bg).convert(\"RGBA\") \n",
        "    eyes_img = Image.open(\"/content/project/eye/\"+eyes).convert(\"RGBA\") \n",
        "    mouth_img = Image.open(\"/content/project/mouths/\"+mouths).convert(\"RGBA\") \n",
        "    bg_img.paste(eyes_img,(0,0),eyes_img)\n",
        "    bg_img.paste(mouth_img,(0,0),mouth_img)\n",
        "    bg_img.save(\"/content/project/collection/image{}.png\".format(i))\n",
        "\n",
        "    i=i+1\n",
        "\n",
        "    if len(main) == total_nft:\n",
        "      print(\"{} nfts are now located in collection folder\".format(total_nft))\n",
        "      break\n",
        "\n",
        "\n"
      ],
      "metadata": {
        "colab": {
          "base_uri": "https://localhost:8080/"
        },
        "id": "zozKtZHwoVUT",
        "outputId": "49980727-5104-4b3b-b086-3e53677b8d67"
      },
      "execution_count": 12,
      "outputs": [
        {
          "output_type": "stream",
          "name": "stdout",
          "text": [
            "how many nfts45\n",
            "['4.png', '5.png', '1.png', '2.png', '3.png']\n",
            "['4.png', '6.png', '5.png', '1.png', '2.png', '3.png']\n",
            "['4.png', '6.png', '5.png', '1.png', '2.png', '3.png']\n",
            "with these files we can only generate a maximum of 180 images\n",
            "image+2+3+6\n",
            "image+1+2+6\n",
            "image+3+2+2\n",
            "image+2+5+5\n",
            "image+1+6+5\n",
            "image+2+4+1\n",
            "image+2+5+1\n",
            "image+5+4+4\n",
            "image+3+4+4\n",
            "image+2+2+4\n",
            "image+2+2+4\n",
            "image+3+5+3\n",
            "image+1+6+5\n",
            "image+4+6+3\n",
            "image+2+3+1\n",
            "image+5+1+5\n",
            "image+2+3+4\n",
            "image+1+4+2\n",
            "image+4+2+3\n",
            "image+1+5+3\n",
            "image+2+6+4\n",
            "image+3+5+3\n",
            "image+3+6+3\n",
            "image+2+6+5\n",
            "image+4+6+4\n",
            "image+3+6+3\n",
            "image+4+1+6\n",
            "image+1+5+1\n",
            "image+3+1+6\n",
            "image+5+4+1\n",
            "image+5+1+4\n",
            "image+3+2+6\n",
            "image+3+4+5\n",
            "image+4+5+4\n",
            "image+1+2+6\n",
            "image+4+5+1\n",
            "image+5+4+5\n",
            "image+3+3+1\n",
            "image+2+6+4\n",
            "image+3+1+1\n",
            "image+5+3+1\n",
            "image+5+6+1\n",
            "image+1+4+6\n",
            "image+2+3+6\n",
            "image+4+1+1\n",
            "image+3+3+1\n",
            "image+2+5+4\n",
            "image+1+3+2\n",
            "image+1+2+6\n",
            "image+1+3+4\n",
            "image+4+6+5\n",
            "image+1+6+3\n",
            "image+1+5+4\n",
            "45 nfts are now located in collection folder\n"
          ]
        }
      ]
    }
  ]
}